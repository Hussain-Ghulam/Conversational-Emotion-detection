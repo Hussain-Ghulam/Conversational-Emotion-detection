{
 "cells": [
  {
   "cell_type": "code",
   "execution_count": 2,
   "id": "a5db11ff",
   "metadata": {},
   "outputs": [],
   "source": [
    "import warnings\n",
    "warnings.filterwarnings(\"ignore\")\n",
    "%matplotlib inline\n",
    "import numpy as np\n",
    "import pandas as pd\n",
    "from tqdm import tqdm\n",
    "import seaborn as sns\n",
    "import matplotlib.pyplot as plt\n",
    "import re\n",
    "import random\n",
    "import joblib\n",
    "import tensorflow as tf"
   ]
  },
  {
   "cell_type": "code",
   "execution_count": 3,
   "id": "8fef95f0",
   "metadata": {},
   "outputs": [
    {
     "data": {
      "text/html": [
       "<div>\n",
       "<style scoped>\n",
       "    .dataframe tbody tr th:only-of-type {\n",
       "        vertical-align: middle;\n",
       "    }\n",
       "\n",
       "    .dataframe tbody tr th {\n",
       "        vertical-align: top;\n",
       "    }\n",
       "\n",
       "    .dataframe thead th {\n",
       "        text-align: right;\n",
       "    }\n",
       "</style>\n",
       "<table border=\"1\" class=\"dataframe\">\n",
       "  <thead>\n",
       "    <tr style=\"text-align: right;\">\n",
       "      <th></th>\n",
       "      <th>Sr No.</th>\n",
       "      <th>Utterance</th>\n",
       "      <th>Speaker</th>\n",
       "      <th>Emotion</th>\n",
       "      <th>Sentiment</th>\n",
       "      <th>Dialogue_ID</th>\n",
       "      <th>Utterance_ID</th>\n",
       "      <th>Season</th>\n",
       "      <th>Episode</th>\n",
       "      <th>StartTime</th>\n",
       "      <th>EndTime</th>\n",
       "    </tr>\n",
       "  </thead>\n",
       "  <tbody>\n",
       "    <tr>\n",
       "      <th>0</th>\n",
       "      <td>1</td>\n",
       "      <td>also I was the point person on my company’s tr...</td>\n",
       "      <td>Chandler</td>\n",
       "      <td>neutral</td>\n",
       "      <td>neutral</td>\n",
       "      <td>0</td>\n",
       "      <td>0</td>\n",
       "      <td>8</td>\n",
       "      <td>21</td>\n",
       "      <td>00:16:16,059</td>\n",
       "      <td>00:16:21,731</td>\n",
       "    </tr>\n",
       "    <tr>\n",
       "      <th>1</th>\n",
       "      <td>2</td>\n",
       "      <td>You must’ve had your hands full.</td>\n",
       "      <td>The Interviewer</td>\n",
       "      <td>neutral</td>\n",
       "      <td>neutral</td>\n",
       "      <td>0</td>\n",
       "      <td>1</td>\n",
       "      <td>8</td>\n",
       "      <td>21</td>\n",
       "      <td>00:16:21,940</td>\n",
       "      <td>00:16:23,442</td>\n",
       "    </tr>\n",
       "    <tr>\n",
       "      <th>2</th>\n",
       "      <td>3</td>\n",
       "      <td>That I did. That I did.</td>\n",
       "      <td>Chandler</td>\n",
       "      <td>neutral</td>\n",
       "      <td>neutral</td>\n",
       "      <td>0</td>\n",
       "      <td>2</td>\n",
       "      <td>8</td>\n",
       "      <td>21</td>\n",
       "      <td>00:16:23,442</td>\n",
       "      <td>00:16:26,389</td>\n",
       "    </tr>\n",
       "    <tr>\n",
       "      <th>3</th>\n",
       "      <td>4</td>\n",
       "      <td>So let’s talk a little bit about your duties.</td>\n",
       "      <td>The Interviewer</td>\n",
       "      <td>neutral</td>\n",
       "      <td>neutral</td>\n",
       "      <td>0</td>\n",
       "      <td>3</td>\n",
       "      <td>8</td>\n",
       "      <td>21</td>\n",
       "      <td>00:16:26,820</td>\n",
       "      <td>00:16:29,572</td>\n",
       "    </tr>\n",
       "    <tr>\n",
       "      <th>4</th>\n",
       "      <td>5</td>\n",
       "      <td>My duties?  All right.</td>\n",
       "      <td>Chandler</td>\n",
       "      <td>surprise</td>\n",
       "      <td>positive</td>\n",
       "      <td>0</td>\n",
       "      <td>4</td>\n",
       "      <td>8</td>\n",
       "      <td>21</td>\n",
       "      <td>00:16:34,452</td>\n",
       "      <td>00:16:40,917</td>\n",
       "    </tr>\n",
       "  </tbody>\n",
       "</table>\n",
       "</div>"
      ],
      "text/plain": [
       "   Sr No.                                          Utterance          Speaker  \\\n",
       "0       1  also I was the point person on my company’s tr...         Chandler   \n",
       "1       2                   You must’ve had your hands full.  The Interviewer   \n",
       "2       3                            That I did. That I did.         Chandler   \n",
       "3       4      So let’s talk a little bit about your duties.  The Interviewer   \n",
       "4       5                             My duties?  All right.         Chandler   \n",
       "\n",
       "    Emotion Sentiment  Dialogue_ID  Utterance_ID  Season  Episode  \\\n",
       "0   neutral   neutral            0             0       8       21   \n",
       "1   neutral   neutral            0             1       8       21   \n",
       "2   neutral   neutral            0             2       8       21   \n",
       "3   neutral   neutral            0             3       8       21   \n",
       "4  surprise  positive            0             4       8       21   \n",
       "\n",
       "      StartTime       EndTime  \n",
       "0  00:16:16,059  00:16:21,731  \n",
       "1  00:16:21,940  00:16:23,442  \n",
       "2  00:16:23,442  00:16:26,389  \n",
       "3  00:16:26,820  00:16:29,572  \n",
       "4  00:16:34,452  00:16:40,917  "
      ]
     },
     "execution_count": 3,
     "metadata": {},
     "output_type": "execute_result"
    }
   ],
   "source": [
    "train1 = pd.read_csv('train_sent_emo.csv')\n",
    "train1.head()"
   ]
  },
  {
   "cell_type": "code",
   "execution_count": 4,
   "id": "2885337f",
   "metadata": {},
   "outputs": [
    {
     "data": {
      "text/plain": [
       "(9989, 11)"
      ]
     },
     "execution_count": 4,
     "metadata": {},
     "output_type": "execute_result"
    }
   ],
   "source": [
    "train1.shape"
   ]
  },
  {
   "cell_type": "code",
   "execution_count": 5,
   "id": "e43629a0",
   "metadata": {},
   "outputs": [
    {
     "data": {
      "text/plain": [
       "1038"
      ]
     },
     "execution_count": 5,
     "metadata": {},
     "output_type": "execute_result"
    }
   ],
   "source": [
    "#Number of unique dialogues\n",
    "train1['Dialogue_ID'].nunique()"
   ]
  },
  {
   "cell_type": "code",
   "execution_count": 6,
   "id": "8c5b78a1",
   "metadata": {},
   "outputs": [
    {
     "data": {
      "text/html": [
       "<div>\n",
       "<style scoped>\n",
       "    .dataframe tbody tr th:only-of-type {\n",
       "        vertical-align: middle;\n",
       "    }\n",
       "\n",
       "    .dataframe tbody tr th {\n",
       "        vertical-align: top;\n",
       "    }\n",
       "\n",
       "    .dataframe thead th {\n",
       "        text-align: right;\n",
       "    }\n",
       "</style>\n",
       "<table border=\"1\" class=\"dataframe\">\n",
       "  <thead>\n",
       "    <tr style=\"text-align: right;\">\n",
       "      <th></th>\n",
       "      <th>Sr No.</th>\n",
       "      <th>Utterance</th>\n",
       "      <th>Speaker</th>\n",
       "      <th>Emotion</th>\n",
       "      <th>Sentiment</th>\n",
       "      <th>Dialogue_ID</th>\n",
       "      <th>Utterance_ID</th>\n",
       "      <th>Season</th>\n",
       "      <th>Episode</th>\n",
       "      <th>StartTime</th>\n",
       "      <th>EndTime</th>\n",
       "    </tr>\n",
       "  </thead>\n",
       "  <tbody>\n",
       "    <tr>\n",
       "      <th>0</th>\n",
       "      <td>1</td>\n",
       "      <td>Oh my God, he’s lost it. He’s totally lost it.</td>\n",
       "      <td>Phoebe</td>\n",
       "      <td>sadness</td>\n",
       "      <td>negative</td>\n",
       "      <td>0</td>\n",
       "      <td>0</td>\n",
       "      <td>4</td>\n",
       "      <td>7</td>\n",
       "      <td>00:20:57,256</td>\n",
       "      <td>00:21:00,049</td>\n",
       "    </tr>\n",
       "    <tr>\n",
       "      <th>1</th>\n",
       "      <td>2</td>\n",
       "      <td>What?</td>\n",
       "      <td>Monica</td>\n",
       "      <td>surprise</td>\n",
       "      <td>negative</td>\n",
       "      <td>0</td>\n",
       "      <td>1</td>\n",
       "      <td>4</td>\n",
       "      <td>7</td>\n",
       "      <td>00:21:01,927</td>\n",
       "      <td>00:21:03,261</td>\n",
       "    </tr>\n",
       "    <tr>\n",
       "      <th>2</th>\n",
       "      <td>3</td>\n",
       "      <td>Or! Or, we could go to the bank, close our acc...</td>\n",
       "      <td>Ross</td>\n",
       "      <td>neutral</td>\n",
       "      <td>neutral</td>\n",
       "      <td>1</td>\n",
       "      <td>0</td>\n",
       "      <td>4</td>\n",
       "      <td>4</td>\n",
       "      <td>00:12:24,660</td>\n",
       "      <td>00:12:30,915</td>\n",
       "    </tr>\n",
       "    <tr>\n",
       "      <th>3</th>\n",
       "      <td>4</td>\n",
       "      <td>You’re a genius!</td>\n",
       "      <td>Chandler</td>\n",
       "      <td>joy</td>\n",
       "      <td>positive</td>\n",
       "      <td>1</td>\n",
       "      <td>1</td>\n",
       "      <td>4</td>\n",
       "      <td>4</td>\n",
       "      <td>00:12:32,334</td>\n",
       "      <td>00:12:33,960</td>\n",
       "    </tr>\n",
       "    <tr>\n",
       "      <th>4</th>\n",
       "      <td>5</td>\n",
       "      <td>Aww, man, now we won’t be bank buddies!</td>\n",
       "      <td>Joey</td>\n",
       "      <td>sadness</td>\n",
       "      <td>negative</td>\n",
       "      <td>1</td>\n",
       "      <td>2</td>\n",
       "      <td>4</td>\n",
       "      <td>4</td>\n",
       "      <td>00:12:34,211</td>\n",
       "      <td>00:12:37,505</td>\n",
       "    </tr>\n",
       "  </tbody>\n",
       "</table>\n",
       "</div>"
      ],
      "text/plain": [
       "   Sr No.                                          Utterance   Speaker  \\\n",
       "0       1     Oh my God, he’s lost it. He’s totally lost it.    Phoebe   \n",
       "1       2                                              What?    Monica   \n",
       "2       3  Or! Or, we could go to the bank, close our acc...      Ross   \n",
       "3       4                                   You’re a genius!  Chandler   \n",
       "4       5            Aww, man, now we won’t be bank buddies!      Joey   \n",
       "\n",
       "    Emotion Sentiment  Dialogue_ID  Utterance_ID  Season  Episode  \\\n",
       "0   sadness  negative            0             0       4        7   \n",
       "1  surprise  negative            0             1       4        7   \n",
       "2   neutral   neutral            1             0       4        4   \n",
       "3       joy  positive            1             1       4        4   \n",
       "4   sadness  negative            1             2       4        4   \n",
       "\n",
       "      StartTime       EndTime  \n",
       "0  00:20:57,256  00:21:00,049  \n",
       "1  00:21:01,927  00:21:03,261  \n",
       "2  00:12:24,660  00:12:30,915  \n",
       "3  00:12:32,334  00:12:33,960  \n",
       "4  00:12:34,211  00:12:37,505  "
      ]
     },
     "execution_count": 6,
     "metadata": {},
     "output_type": "execute_result"
    }
   ],
   "source": [
    "train2 = pd.read_csv('dev_sent_emo.csv')\n",
    "train2.head()"
   ]
  },
  {
   "cell_type": "code",
   "execution_count": 7,
   "id": "9dbfd54d",
   "metadata": {},
   "outputs": [
    {
     "data": {
      "text/plain": [
       "(1109, 11)"
      ]
     },
     "execution_count": 7,
     "metadata": {},
     "output_type": "execute_result"
    }
   ],
   "source": [
    "train2.shape"
   ]
  },
  {
   "cell_type": "code",
   "execution_count": 8,
   "id": "d51135b7",
   "metadata": {},
   "outputs": [
    {
     "data": {
      "text/plain": [
       "114"
      ]
     },
     "execution_count": 8,
     "metadata": {},
     "output_type": "execute_result"
    }
   ],
   "source": [
    "#Number of unique dialogues\n",
    "train2['Dialogue_ID'].nunique()"
   ]
  },
  {
   "cell_type": "code",
   "execution_count": 9,
   "id": "84fbc7d1",
   "metadata": {},
   "outputs": [],
   "source": [
    "train2['Dialogue_ID'] = train2['Dialogue_ID'] + train1['Dialogue_ID'].max() + 1"
   ]
  },
  {
   "cell_type": "code",
   "execution_count": 10,
   "id": "d4a7f14d",
   "metadata": {},
   "outputs": [
    {
     "data": {
      "text/html": [
       "<div>\n",
       "<style scoped>\n",
       "    .dataframe tbody tr th:only-of-type {\n",
       "        vertical-align: middle;\n",
       "    }\n",
       "\n",
       "    .dataframe tbody tr th {\n",
       "        vertical-align: top;\n",
       "    }\n",
       "\n",
       "    .dataframe thead th {\n",
       "        text-align: right;\n",
       "    }\n",
       "</style>\n",
       "<table border=\"1\" class=\"dataframe\">\n",
       "  <thead>\n",
       "    <tr style=\"text-align: right;\">\n",
       "      <th></th>\n",
       "      <th>Sr No.</th>\n",
       "      <th>Utterance</th>\n",
       "      <th>Speaker</th>\n",
       "      <th>Emotion</th>\n",
       "      <th>Sentiment</th>\n",
       "      <th>Dialogue_ID</th>\n",
       "      <th>Utterance_ID</th>\n",
       "      <th>Season</th>\n",
       "      <th>Episode</th>\n",
       "      <th>StartTime</th>\n",
       "      <th>EndTime</th>\n",
       "    </tr>\n",
       "  </thead>\n",
       "  <tbody>\n",
       "    <tr>\n",
       "      <th>0</th>\n",
       "      <td>1</td>\n",
       "      <td>also I was the point person on my company’s tr...</td>\n",
       "      <td>Chandler</td>\n",
       "      <td>neutral</td>\n",
       "      <td>neutral</td>\n",
       "      <td>0</td>\n",
       "      <td>0</td>\n",
       "      <td>8</td>\n",
       "      <td>21</td>\n",
       "      <td>00:16:16,059</td>\n",
       "      <td>00:16:21,731</td>\n",
       "    </tr>\n",
       "    <tr>\n",
       "      <th>1</th>\n",
       "      <td>2</td>\n",
       "      <td>You must’ve had your hands full.</td>\n",
       "      <td>The Interviewer</td>\n",
       "      <td>neutral</td>\n",
       "      <td>neutral</td>\n",
       "      <td>0</td>\n",
       "      <td>1</td>\n",
       "      <td>8</td>\n",
       "      <td>21</td>\n",
       "      <td>00:16:21,940</td>\n",
       "      <td>00:16:23,442</td>\n",
       "    </tr>\n",
       "    <tr>\n",
       "      <th>2</th>\n",
       "      <td>3</td>\n",
       "      <td>That I did. That I did.</td>\n",
       "      <td>Chandler</td>\n",
       "      <td>neutral</td>\n",
       "      <td>neutral</td>\n",
       "      <td>0</td>\n",
       "      <td>2</td>\n",
       "      <td>8</td>\n",
       "      <td>21</td>\n",
       "      <td>00:16:23,442</td>\n",
       "      <td>00:16:26,389</td>\n",
       "    </tr>\n",
       "    <tr>\n",
       "      <th>3</th>\n",
       "      <td>4</td>\n",
       "      <td>So let’s talk a little bit about your duties.</td>\n",
       "      <td>The Interviewer</td>\n",
       "      <td>neutral</td>\n",
       "      <td>neutral</td>\n",
       "      <td>0</td>\n",
       "      <td>3</td>\n",
       "      <td>8</td>\n",
       "      <td>21</td>\n",
       "      <td>00:16:26,820</td>\n",
       "      <td>00:16:29,572</td>\n",
       "    </tr>\n",
       "    <tr>\n",
       "      <th>4</th>\n",
       "      <td>5</td>\n",
       "      <td>My duties?  All right.</td>\n",
       "      <td>Chandler</td>\n",
       "      <td>surprise</td>\n",
       "      <td>positive</td>\n",
       "      <td>0</td>\n",
       "      <td>4</td>\n",
       "      <td>8</td>\n",
       "      <td>21</td>\n",
       "      <td>00:16:34,452</td>\n",
       "      <td>00:16:40,917</td>\n",
       "    </tr>\n",
       "  </tbody>\n",
       "</table>\n",
       "</div>"
      ],
      "text/plain": [
       "   Sr No.                                          Utterance          Speaker  \\\n",
       "0       1  also I was the point person on my company’s tr...         Chandler   \n",
       "1       2                   You must’ve had your hands full.  The Interviewer   \n",
       "2       3                            That I did. That I did.         Chandler   \n",
       "3       4      So let’s talk a little bit about your duties.  The Interviewer   \n",
       "4       5                             My duties?  All right.         Chandler   \n",
       "\n",
       "    Emotion Sentiment  Dialogue_ID  Utterance_ID  Season  Episode  \\\n",
       "0   neutral   neutral            0             0       8       21   \n",
       "1   neutral   neutral            0             1       8       21   \n",
       "2   neutral   neutral            0             2       8       21   \n",
       "3   neutral   neutral            0             3       8       21   \n",
       "4  surprise  positive            0             4       8       21   \n",
       "\n",
       "      StartTime       EndTime  \n",
       "0  00:16:16,059  00:16:21,731  \n",
       "1  00:16:21,940  00:16:23,442  \n",
       "2  00:16:23,442  00:16:26,389  \n",
       "3  00:16:26,820  00:16:29,572  \n",
       "4  00:16:34,452  00:16:40,917  "
      ]
     },
     "execution_count": 10,
     "metadata": {},
     "output_type": "execute_result"
    }
   ],
   "source": [
    "train = pd.concat([train1,train2],ignore_index=True)\n",
    "train.head()"
   ]
  },
  {
   "cell_type": "code",
   "execution_count": 11,
   "id": "fbdd6093",
   "metadata": {},
   "outputs": [
    {
     "data": {
      "text/plain": [
       "(11098, 11)"
      ]
     },
     "execution_count": 11,
     "metadata": {},
     "output_type": "execute_result"
    }
   ],
   "source": [
    "train.shape"
   ]
  },
  {
   "cell_type": "code",
   "execution_count": 12,
   "id": "165fca90",
   "metadata": {},
   "outputs": [
    {
     "data": {
      "text/plain": [
       "Text(0.5, 1.0, 'Bar Graph of Different Emotion Counts')"
      ]
     },
     "execution_count": 12,
     "metadata": {},
     "output_type": "execute_result"
    },
    {
     "data": {
      "image/png": "[encoded data removed]",
      "text/plain": [
       "<Figure size 720x288 with 1 Axes>"
      ]
     },
     "metadata": {
      "needs_background": "light"
     },
     "output_type": "display_data"
    }
   ],
   "source": [
    "a = train['Emotion'].value_counts()\n",
    "plt.figure(figsize=(10,4))\n",
    "plt.bar(a.index,a.values)\n",
    "plt.xlabel('Emotion')\n",
    "plt.ylabel('Counts')\n",
    "plt.title('Bar Graph of Different Emotion Counts')"
   ]
  },
  {
   "cell_type": "code",
   "execution_count": 13,
   "id": "a86cf574",
   "metadata": {},
   "outputs": [
    {
     "data": {
      "text/plain": [
       "{'neutral': 1,\n",
       " 'joy': 2,\n",
       " 'surprise': 3,\n",
       " 'anger': 4,\n",
       " 'sadness': 5,\n",
       " 'fear': 6,\n",
       " 'disgust': 7}"
      ]
     },
     "execution_count": 13,
     "metadata": {},
     "output_type": "execute_result"
    }
   ],
   "source": [
    "label_index = {j:i+1 for i,j in enumerate(a.index)}\n",
    "label_index"
   ]
  },
  {
   "cell_type": "code",
   "execution_count": 14,
   "id": "019d81ce",
   "metadata": {},
   "outputs": [
    {
     "name": "stdout",
     "output_type": "stream",
     "text": [
      "Wow, Monica, you look just like your grandmother. How old was she there?\n",
      "['Wow,', 'Monica,', 'you', 'look', 'just', 'like', 'your', 'grandmother.', 'How', 'old', 'was', 'she', 'there?']\n",
      "------------------------------------------------------------------------------------------------------------------------\n",
      "Yeah, and y’know what? I don’t give a tiny rat’s ass.\n",
      "['Yeah,', 'and', 'y’know', 'what?', 'I', 'don’t', 'give', 'a', 'tiny', 'rat’s', 'ass.']\n",
      "------------------------------------------------------------------------------------------------------------------------\n",
      "And it’s all because of you, wonderful, amazing you.\n",
      "['And', 'it’s', 'all', 'because', 'of', 'you,', 'wonderful,', 'amazing', 'you.']\n",
      "------------------------------------------------------------------------------------------------------------------------\n",
      "You tell her Jack, I can’t do it.\n",
      "['You', 'tell', 'her', 'Jack,', 'I', 'can’t', 'do', 'it.']\n",
      "------------------------------------------------------------------------------------------------------------------------\n",
      "Bye.\n",
      "['Bye.']\n",
      "------------------------------------------------------------------------------------------------------------------------\n",
      "Shh!\n",
      "['Shh!']\n",
      "------------------------------------------------------------------------------------------------------------------------\n",
      "Hey!\n",
      "['Hey!']\n",
      "------------------------------------------------------------------------------------------------------------------------\n",
      "Yeah, we're better off without them.\n",
      "['Yeah,', \"we're\", 'better', 'off', 'without', 'them.']\n",
      "------------------------------------------------------------------------------------------------------------------------\n",
      "I, I can’t help you.\n",
      "['I,', 'I', 'can’t', 'help', 'you.']\n",
      "------------------------------------------------------------------------------------------------------------------------\n",
      "What should I wear, now I’m all nervous.\n",
      "['What', 'should', 'I', 'wear,', 'now', 'I’m', 'all', 'nervous.']\n",
      "------------------------------------------------------------------------------------------------------------------------\n"
     ]
    }
   ],
   "source": [
    "for i in train['Utterance'].sample(10,random_state=20):\n",
    "    print(i)\n",
    "    print(i.split())\n",
    "    print(120*'-')"
   ]
  },
  {
   "cell_type": "code",
   "execution_count": 15,
   "id": "d578a435",
   "metadata": {},
   "outputs": [],
   "source": [
    "#Decontraction of text\n",
    "def decontracted(phrase):\n",
    "    \"\"\"\n",
    "    Returns decontracted phrases\n",
    "    \"\"\"\n",
    "    # specific\n",
    "    phrase = re.sub(r\"won't\", \"will not\", phrase)\n",
    "    phrase = re.sub(r\"can\\'t\", \"can not\", phrase)\n",
    "    # general\n",
    "    phrase = re.sub(r\"n\\'t\", \" not\", phrase)\n",
    "    phrase = re.sub(r\"\\'re\", \" are\", phrase)\n",
    "    phrase = re.sub(r\"\\'s\", \" is\", phrase)\n",
    "    phrase = re.sub(r\"\\'d\", \" would\", phrase)\n",
    "    phrase = re.sub(r\"\\'ll\", \" will\", phrase)\n",
    "    phrase = re.sub(r\"\\'t\", \" not\", phrase)\n",
    "    phrase = re.sub(r\"\\'ve\", \" have\", phrase)\n",
    "    phrase = re.sub(r\"\\'m\", \" am\", phrase)\n",
    "    return phrase"
   ]
  },
  {
   "cell_type": "code",
   "execution_count": 16,
   "id": "80d15a43",
   "metadata": {},
   "outputs": [],
   "source": [
    "def preprocess(sentence):\n",
    "    \n",
    "    # process sentence\n",
    "    sentence = re.sub('\\x92','\\'',sentence)\n",
    "    # decontract sentence\n",
    "    sentence = decontracted(sentence)\n",
    "    # creating a space between a word and the punctuation following it\n",
    "    sentence = re.sub(r\"([?.!,¿])\", r\" \\1 \", sentence)\n",
    "    sentence = re.sub(r'[\" \"]+', \" \", sentence)\n",
    "    # replacing everything with space except (a-z, A-Z, \".\", \"?\", \"!\", \",\")\n",
    "    sentence = re.sub(r\"[^a-zA-Z?.!,¿]+\", \" \", sentence)\n",
    "    # remove extra spaces\n",
    "    sentence = sentence.strip()\n",
    "    # make lower case\n",
    "    sentence = sentence.lower()\n",
    "    return sentence"
   ]
  },
  {
   "cell_type": "code",
   "execution_count": 17,
   "id": "f1375c34",
   "metadata": {},
   "outputs": [
    {
     "name": "stderr",
     "output_type": "stream",
     "text": [
      "100%|█████████████████████████████████████████████████████████████████████████| 11098/11098 [00:00<00:00, 35172.24it/s]\n"
     ]
    }
   ],
   "source": [
    "tqdm.pandas()\n",
    "train['Utterance'] = train['Utterance'].progress_apply(lambda x: preprocess(x))"
   ]
  },
  {
   "cell_type": "code",
   "execution_count": 18,
   "id": "56616ced",
   "metadata": {},
   "outputs": [
    {
     "name": "stdout",
     "output_type": "stream",
     "text": [
      "wow , monica , you look just like your grandmother . how old was she there ?\n",
      "['wow', ',', 'monica', ',', 'you', 'look', 'just', 'like', 'your', 'grandmother', '.', 'how', 'old', 'was', 'she', 'there', '?']\n",
      "------------------------------------------------------------------------------------------------------------------------\n",
      "yeah , and y know what ? i don t give a tiny rat s ass .\n",
      "['yeah', ',', 'and', 'y', 'know', 'what', '?', 'i', 'don', 't', 'give', 'a', 'tiny', 'rat', 's', 'ass', '.']\n",
      "------------------------------------------------------------------------------------------------------------------------\n",
      "and it s all because of you , wonderful , amazing you .\n",
      "['and', 'it', 's', 'all', 'because', 'of', 'you', ',', 'wonderful', ',', 'amazing', 'you', '.']\n",
      "------------------------------------------------------------------------------------------------------------------------\n",
      "you tell her jack , i can t do it .\n",
      "['you', 'tell', 'her', 'jack', ',', 'i', 'can', 't', 'do', 'it', '.']\n",
      "------------------------------------------------------------------------------------------------------------------------\n",
      "bye .\n",
      "['bye', '.']\n",
      "------------------------------------------------------------------------------------------------------------------------\n",
      "shh !\n",
      "['shh', '!']\n",
      "------------------------------------------------------------------------------------------------------------------------\n",
      "hey !\n",
      "['hey', '!']\n",
      "------------------------------------------------------------------------------------------------------------------------\n",
      "yeah , we are better off without them .\n",
      "['yeah', ',', 'we', 'are', 'better', 'off', 'without', 'them', '.']\n",
      "------------------------------------------------------------------------------------------------------------------------\n",
      "i , i can t help you .\n",
      "['i', ',', 'i', 'can', 't', 'help', 'you', '.']\n",
      "------------------------------------------------------------------------------------------------------------------------\n",
      "what should i wear , now i m all nervous .\n",
      "['what', 'should', 'i', 'wear', ',', 'now', 'i', 'm', 'all', 'nervous', '.']\n",
      "------------------------------------------------------------------------------------------------------------------------\n"
     ]
    }
   ],
   "source": [
    "for i in train['Utterance'].sample(10,random_state=20):\n",
    "    print(i)\n",
    "    print(i.split())\n",
    "    print(120*'-')"
   ]
  },
  {
   "cell_type": "code",
   "execution_count": 19,
   "id": "0e379fe4",
   "metadata": {},
   "outputs": [],
   "source": [
    "#Number of words in each utterances\n",
    "utterance_length = train['Utterance'].apply(lambda x:len(x.split())).values"
   ]
  },
  {
   "cell_type": "code",
   "execution_count": 20,
   "id": "b8b56dbb",
   "metadata": {},
   "outputs": [
    {
     "data": {
      "text/plain": [
       "Text(0.5, 1.0, 'Histogram of number of words in Utterance')"
      ]
     },
     "execution_count": 20,
     "metadata": {},
     "output_type": "execute_result"
    },
    {
     "data": {
      "image/png": "[encoded data removed]",
      "text/plain": [
       "<Figure size 1080x360 with 1 Axes>"
      ]
     },
     "metadata": {
      "needs_background": "light"
     },
     "output_type": "display_data"
    }
   ],
   "source": [
    "plt.figure(figsize=(15,5))\n",
    "sns.distplot(utterance_length)\n",
    "plt.xlabel('No of words')\n",
    "plt.title('Histogram of number of words in Utterance')"
   ]
  },
  {
   "cell_type": "code",
   "execution_count": 21,
   "id": "fab89797",
   "metadata": {},
   "outputs": [
    {
     "data": {
      "text/plain": [
       "1152"
      ]
     },
     "execution_count": 21,
     "metadata": {},
     "output_type": "execute_result"
    }
   ],
   "source": [
    "#Number of unique dialogues\n",
    "train['Dialogue_ID'].nunique()"
   ]
  },
  {
   "cell_type": "code",
   "execution_count": 22,
   "id": "6e99623f",
   "metadata": {},
   "outputs": [
    {
     "name": "stderr",
     "output_type": "stream",
     "text": [
      "100%|████████████████████████████████████████████████████████████████████████████| 1152/1152 [00:00<00:00, 1674.75it/s]\n"
     ]
    }
   ],
   "source": [
    "\n",
    "train_dict = {}\n",
    "for i in tqdm(train.groupby('Dialogue_ID')):\n",
    "    train_dict[i[0]] = i[1][['Utterance','Emotion']].values"
   ]
  },
  {
   "cell_type": "code",
   "execution_count": 23,
   "id": "47de5a66",
   "metadata": {},
   "outputs": [],
   "source": [
    "utterances_per_dia = []\n",
    "for i in train_dict.values():\n",
    "    utterances_per_dia.append(i.shape[0])"
   ]
  },
  {
   "cell_type": "code",
   "execution_count": 24,
   "id": "5a8dc897",
   "metadata": {},
   "outputs": [
    {
     "data": {
      "text/plain": [
       "24"
      ]
     },
     "execution_count": 24,
     "metadata": {},
     "output_type": "execute_result"
    }
   ],
   "source": [
    "#Maximum utterances for dialogue\n",
    "max(utterances_per_dia)"
   ]
  },
  {
   "cell_type": "code",
   "execution_count": 25,
   "id": "5c412a9c",
   "metadata": {},
   "outputs": [
    {
     "data": {
      "text/plain": [
       "Text(0.5, 1.0, 'Histogram of number of Utterances per dialogue')"
      ]
     },
     "execution_count": 25,
     "metadata": {},
     "output_type": "execute_result"
    },
    {
     "data": {
      "image/png": "[encoded data removed]",
      "text/plain": [
       "<Figure size 1080x360 with 1 Axes>"
      ]
     },
     "metadata": {
      "needs_background": "light"
     },
     "output_type": "display_data"
    }
   ],
   "source": [
    "plt.figure(figsize=(15,5))\n",
    "sns.distplot(utterances_per_dia)\n",
    "plt.xlabel('No of Utterances')\n",
    "plt.title('Histogram of number of Utterances per dialogue')"
   ]
  },
  {
   "cell_type": "code",
   "execution_count": 26,
   "id": "7b51eac6",
   "metadata": {},
   "outputs": [],
   "source": [
    "#Drop dialogues whose utterances have more than x words\n",
    "def drop_dialogue(data_dict,words):\n",
    "    dig_remove = []\n",
    "    for i in data_dict.keys():\n",
    "        for j in data_dict[i]:\n",
    "            if len(j[0].split())>words:\n",
    "                dig_remove.append(i)\n",
    "                break\n",
    "    return dig_remove"
   ]
  },
  {
   "cell_type": "code",
   "execution_count": 27,
   "id": "fda98dd0",
   "metadata": {},
   "outputs": [
    {
     "data": {
      "text/plain": [
       "59"
      ]
     },
     "execution_count": 27,
     "metadata": {},
     "output_type": "execute_result"
    }
   ],
   "source": [
    "#Drop dialogues whose utterances have more than 35 words\n",
    "train_remove = drop_dialogue(train_dict,35)\n",
    "len(train_remove)"
   ]
  },
  {
   "cell_type": "code",
   "execution_count": 28,
   "id": "5b73fbd9",
   "metadata": {},
   "outputs": [],
   "source": [
    "train_dict = {i:j for i,j in train_dict.items() if i not in train_remove}"
   ]
  },
  {
   "cell_type": "code",
   "execution_count": 29,
   "id": "1bd361d4",
   "metadata": {},
   "outputs": [
    {
     "data": {
      "text/plain": [
       "1093"
      ]
     },
     "execution_count": 29,
     "metadata": {},
     "output_type": "execute_result"
    }
   ],
   "source": [
    "len(train_dict)"
   ]
  },
  {
   "cell_type": "code",
   "execution_count": 30,
   "id": "79fd3eaa",
   "metadata": {},
   "outputs": [
    {
     "name": "stderr",
     "output_type": "stream",
     "text": [
      "100%|██████████████████████████████████████████████████████████████████████████| 1093/1093 [00:00<00:00, 199026.41it/s]\n"
     ]
    }
   ],
   "source": [
    "#Get all utterances in train data\n",
    "utterances = []\n",
    "for i in tqdm(train_dict.keys()):\n",
    "    for j in train_dict[i]:\n",
    "        utterances.append(j[0])\n",
    "utterances = pd.DataFrame(data={'Utterance':utterances})"
   ]
  },
  {
   "cell_type": "code",
   "execution_count": 31,
   "id": "05dcc25a",
   "metadata": {},
   "outputs": [
    {
     "data": {
      "text/html": [
       "<div>\n",
       "<style scoped>\n",
       "    .dataframe tbody tr th:only-of-type {\n",
       "        vertical-align: middle;\n",
       "    }\n",
       "\n",
       "    .dataframe tbody tr th {\n",
       "        vertical-align: top;\n",
       "    }\n",
       "\n",
       "    .dataframe thead th {\n",
       "        text-align: right;\n",
       "    }\n",
       "</style>\n",
       "<table border=\"1\" class=\"dataframe\">\n",
       "  <thead>\n",
       "    <tr style=\"text-align: right;\">\n",
       "      <th></th>\n",
       "      <th>Utterance</th>\n",
       "    </tr>\n",
       "  </thead>\n",
       "  <tbody>\n",
       "    <tr>\n",
       "      <th>0</th>\n",
       "      <td>also i was the point person on my company s tr...</td>\n",
       "    </tr>\n",
       "    <tr>\n",
       "      <th>1</th>\n",
       "      <td>you must ve had your hands full .</td>\n",
       "    </tr>\n",
       "    <tr>\n",
       "      <th>2</th>\n",
       "      <td>that i did . that i did .</td>\n",
       "    </tr>\n",
       "    <tr>\n",
       "      <th>3</th>\n",
       "      <td>so let s talk a little bit about your duties .</td>\n",
       "    </tr>\n",
       "    <tr>\n",
       "      <th>4</th>\n",
       "      <td>my duties ? all right .</td>\n",
       "    </tr>\n",
       "  </tbody>\n",
       "</table>\n",
       "</div>"
      ],
      "text/plain": [
       "                                           Utterance\n",
       "0  also i was the point person on my company s tr...\n",
       "1                  you must ve had your hands full .\n",
       "2                          that i did . that i did .\n",
       "3     so let s talk a little bit about your duties .\n",
       "4                            my duties ? all right ."
      ]
     },
     "execution_count": 31,
     "metadata": {},
     "output_type": "execute_result"
    }
   ],
   "source": [
    "utterances.head()"
   ]
  },
  {
   "cell_type": "code",
   "execution_count": 32,
   "id": "6cadb793",
   "metadata": {},
   "outputs": [
    {
     "data": {
      "text/plain": [
       "(10320, 1)"
      ]
     },
     "execution_count": 32,
     "metadata": {},
     "output_type": "execute_result"
    }
   ],
   "source": [
    "utterances.shape"
   ]
  },
  {
   "cell_type": "code",
   "execution_count": 33,
   "id": "bfdb5779",
   "metadata": {},
   "outputs": [],
   "source": [
    "tokenizer = tf.keras.preprocessing.text.Tokenizer(filters='',oov_token='<unk>')\n",
    "tokenizer.fit_on_texts(utterances.Utterance)"
   ]
  },
  {
   "cell_type": "code",
   "execution_count": 34,
   "id": "5f0efdfb",
   "metadata": {},
   "outputs": [
    {
     "data": {
      "text/plain": [
       "5251"
      ]
     },
     "execution_count": 34,
     "metadata": {},
     "output_type": "execute_result"
    }
   ],
   "source": [
    "vocab_size = len(tokenizer.word_index) + 1\n",
    "vocab_size"
   ]
  },
  {
   "cell_type": "code",
   "execution_count": 35,
   "id": "272d2801",
   "metadata": {},
   "outputs": [],
   "source": [
    "#Tokenize one sentence/utterance\n",
    "def tokenizer_sentence(sentence,pad):\n",
    "    #Convert text to sequence of integers\n",
    "    encoded_docs = tokenizer.texts_to_sequences([sentence])\n",
    "    #Add zero padding at the end\n",
    "    padded_docs = tf.keras.preprocessing.sequence.pad_sequences(encoded_docs,maxlen=pad,padding='post')\n",
    "    return padded_docs"
   ]
  },
  {
   "cell_type": "code",
   "execution_count": 36,
   "id": "f947b719",
   "metadata": {},
   "outputs": [],
   "source": [
    "#Maximum words in any utterance\n",
    "max_sentence_length = 35\n",
    "#Maximum utterances in a dialogue\n",
    "max_utterances = 24"
   ]
  },
  {
   "cell_type": "code",
   "execution_count": 37,
   "id": "eb193aa7",
   "metadata": {},
   "outputs": [],
   "source": [
    "#Tokenize single dialogue\n",
    "def tokenize_dialogue(dialogue,max_sentence_length,max_utterances):\n",
    "    utt = []\n",
    "    lab = []\n",
    "    for i in dialogue:\n",
    "        utt.append(tokenizer_sentence(i[0],pad=max_sentence_length))\n",
    "        lab.append(label_index[i[1]])\n",
    "    p = np.array(utt).reshape(-1,max_sentence_length)\n",
    "    # Pad utterances\n",
    "    q = np.zeros((max_utterances-len(lab),max_sentence_length),dtype='int8')\n",
    "    dia_array = np.concatenate([p,q])\n",
    "    # Padded labels have value 0\n",
    "    label_array = np.array(lab + [0]*(max_utterances-len(lab)))\n",
    "    return dia_array,label_array"
   ]
  },
  {
   "cell_type": "code",
   "execution_count": 38,
   "id": "9fae528b",
   "metadata": {},
   "outputs": [
    {
     "name": "stderr",
     "output_type": "stream",
     "text": [
      "100%|████████████████████████████████████████████████████████████████████████████| 1093/1093 [00:00<00:00, 3560.57it/s]\n"
     ]
    }
   ],
   "source": [
    "#Tokenize train data\n",
    "X_train = []\n",
    "y_train = []\n",
    "for i in tqdm(train_dict.keys()):\n",
    "    p, q = tokenize_dialogue(train_dict[i],max_sentence_length,max_utterances)\n",
    "    X_train.append(p)\n",
    "    y_train.append(q)\n",
    "X_train = np.array(X_train)\n",
    "y_train = np.array(y_train)"
   ]
  },
  {
   "cell_type": "code",
   "execution_count": 39,
   "id": "57d355b3",
   "metadata": {},
   "outputs": [
    {
     "name": "stdout",
     "output_type": "stream",
     "text": [
      "(1093, 24, 35)\n",
      "(1093, 24)\n"
     ]
    }
   ],
   "source": [
    "print(X_train.shape)\n",
    "print(y_train.shape)"
   ]
  },
  {
   "cell_type": "code",
   "execution_count": 40,
   "id": "c5455245",
   "metadata": {},
   "outputs": [
    {
     "name": "stderr",
     "output_type": "stream",
     "text": [
      "400000it [00:39, 10210.79it/s]\n"
     ]
    }
   ],
   "source": [
    "#Load embedding vectors\n",
    "#https://nlp.stanford.edu/projects/glove/\n",
    "embeddings_dict = {}\n",
    "with open(\"glove.6B.300d.txt\", encoding=\"utf8\") as f:\n",
    "    for line in tqdm(f):\n",
    "        values = line.split()\n",
    "        word = values[0]\n",
    "        vector = np.asarray(values[1:], \"float32\")\n",
    "        embeddings_dict[word] = vector"
   ]
  },
  {
   "cell_type": "code",
   "execution_count": 41,
   "id": "57d076a5",
   "metadata": {},
   "outputs": [
    {
     "name": "stderr",
     "output_type": "stream",
     "text": [
      "100%|██████████████████████████████████████████████████████████████████████████| 5250/5250 [00:00<00:00, 400919.38it/s]\n"
     ]
    }
   ],
   "source": [
    "#create a weight matrix for embedding layer\n",
    "embedding_matrix = np.zeros((vocab_size, 300))\n",
    "for word, i in tqdm(tokenizer.word_index.items()):\n",
    "    embedding_vector = embeddings_dict.get(word)\n",
    "    if embedding_vector is not None:\n",
    "        embedding_matrix[i] = embedding_vector"
   ]
  },
  {
   "cell_type": "code",
   "execution_count": 42,
   "id": "cddf872e",
   "metadata": {},
   "outputs": [
    {
     "data": {
      "text/html": [
       "<div>\n",
       "<style scoped>\n",
       "    .dataframe tbody tr th:only-of-type {\n",
       "        vertical-align: middle;\n",
       "    }\n",
       "\n",
       "    .dataframe tbody tr th {\n",
       "        vertical-align: top;\n",
       "    }\n",
       "\n",
       "    .dataframe thead th {\n",
       "        text-align: right;\n",
       "    }\n",
       "</style>\n",
       "<table border=\"1\" class=\"dataframe\">\n",
       "  <thead>\n",
       "    <tr style=\"text-align: right;\">\n",
       "      <th></th>\n",
       "      <th>Sr No.</th>\n",
       "      <th>Utterance</th>\n",
       "      <th>Speaker</th>\n",
       "      <th>Emotion</th>\n",
       "      <th>Sentiment</th>\n",
       "      <th>Dialogue_ID</th>\n",
       "      <th>Utterance_ID</th>\n",
       "      <th>Season</th>\n",
       "      <th>Episode</th>\n",
       "      <th>StartTime</th>\n",
       "      <th>EndTime</th>\n",
       "    </tr>\n",
       "  </thead>\n",
       "  <tbody>\n",
       "    <tr>\n",
       "      <th>0</th>\n",
       "      <td>1</td>\n",
       "      <td>Why do all you’re coffee mugs have numbers on ...</td>\n",
       "      <td>Mark</td>\n",
       "      <td>surprise</td>\n",
       "      <td>positive</td>\n",
       "      <td>0</td>\n",
       "      <td>0</td>\n",
       "      <td>3</td>\n",
       "      <td>19</td>\n",
       "      <td>00:14:38,127</td>\n",
       "      <td>00:14:40,378</td>\n",
       "    </tr>\n",
       "    <tr>\n",
       "      <th>1</th>\n",
       "      <td>2</td>\n",
       "      <td>Oh. That’s so Monica can keep track. That way ...</td>\n",
       "      <td>Rachel</td>\n",
       "      <td>anger</td>\n",
       "      <td>negative</td>\n",
       "      <td>0</td>\n",
       "      <td>1</td>\n",
       "      <td>3</td>\n",
       "      <td>19</td>\n",
       "      <td>00:14:40,629</td>\n",
       "      <td>00:14:47,385</td>\n",
       "    </tr>\n",
       "    <tr>\n",
       "      <th>2</th>\n",
       "      <td>3</td>\n",
       "      <td>Y'know what?</td>\n",
       "      <td>Rachel</td>\n",
       "      <td>neutral</td>\n",
       "      <td>neutral</td>\n",
       "      <td>0</td>\n",
       "      <td>2</td>\n",
       "      <td>3</td>\n",
       "      <td>19</td>\n",
       "      <td>00:14:56,353</td>\n",
       "      <td>00:14:57,520</td>\n",
       "    </tr>\n",
       "    <tr>\n",
       "      <th>3</th>\n",
       "      <td>19</td>\n",
       "      <td>Come on, Lydia, you can do it.</td>\n",
       "      <td>Joey</td>\n",
       "      <td>neutral</td>\n",
       "      <td>neutral</td>\n",
       "      <td>1</td>\n",
       "      <td>0</td>\n",
       "      <td>1</td>\n",
       "      <td>23</td>\n",
       "      <td>0:10:44,769</td>\n",
       "      <td>0:10:46,146</td>\n",
       "    </tr>\n",
       "    <tr>\n",
       "      <th>4</th>\n",
       "      <td>20</td>\n",
       "      <td>Push!</td>\n",
       "      <td>Joey</td>\n",
       "      <td>joy</td>\n",
       "      <td>positive</td>\n",
       "      <td>1</td>\n",
       "      <td>1</td>\n",
       "      <td>1</td>\n",
       "      <td>23</td>\n",
       "      <td>0:10:46,146</td>\n",
       "      <td>0:10:46,833</td>\n",
       "    </tr>\n",
       "  </tbody>\n",
       "</table>\n",
       "</div>"
      ],
      "text/plain": [
       "   Sr No.                                          Utterance Speaker  \\\n",
       "0       1  Why do all you’re coffee mugs have numbers on ...    Mark   \n",
       "1       2  Oh. That’s so Monica can keep track. That way ...  Rachel   \n",
       "2       3                                       Y'know what?  Rachel   \n",
       "3      19                     Come on, Lydia, you can do it.    Joey   \n",
       "4      20                                              Push!    Joey   \n",
       "\n",
       "    Emotion Sentiment  Dialogue_ID  Utterance_ID  Season  Episode  \\\n",
       "0  surprise  positive            0             0       3       19   \n",
       "1     anger  negative            0             1       3       19   \n",
       "2   neutral   neutral            0             2       3       19   \n",
       "3   neutral   neutral            1             0       1       23   \n",
       "4       joy  positive            1             1       1       23   \n",
       "\n",
       "      StartTime       EndTime  \n",
       "0  00:14:38,127  00:14:40,378  \n",
       "1  00:14:40,629  00:14:47,385  \n",
       "2  00:14:56,353  00:14:57,520  \n",
       "3   0:10:44,769   0:10:46,146  \n",
       "4   0:10:46,146   0:10:46,833  "
      ]
     },
     "execution_count": 42,
     "metadata": {},
     "output_type": "execute_result"
    }
   ],
   "source": [
    "test = pd.read_csv('test_sent_emo.csv')\n",
    "test.head()"
   ]
  },
  {
   "cell_type": "code",
   "execution_count": 43,
   "id": "5573b667",
   "metadata": {},
   "outputs": [
    {
     "data": {
      "text/plain": [
       "(2610, 11)"
      ]
     },
     "execution_count": 43,
     "metadata": {},
     "output_type": "execute_result"
    }
   ],
   "source": [
    "test.shape"
   ]
  },
  {
   "cell_type": "code",
   "execution_count": 44,
   "id": "f08596ab",
   "metadata": {},
   "outputs": [
    {
     "name": "stderr",
     "output_type": "stream",
     "text": [
      "100%|███████████████████████████████████████████████████████████████████████████| 2610/2610 [00:00<00:00, 12422.42it/s]\n"
     ]
    }
   ],
   "source": [
    "tqdm.pandas()\n",
    "test['Utterance'] = test['Utterance'].progress_apply(lambda x: preprocess(x))"
   ]
  },
  {
   "cell_type": "code",
   "execution_count": 45,
   "id": "03046eaa",
   "metadata": {},
   "outputs": [
    {
     "name": "stderr",
     "output_type": "stream",
     "text": [
      "100%|██████████████████████████████████████████████████████████████████████████████| 280/280 [00:00<00:00, 1406.84it/s]\n"
     ]
    }
   ],
   "source": [
    "test_dict = {}\n",
    "for i in tqdm(test.groupby('Dialogue_ID')):\n",
    "    test_dict[i[0]] = i[1][['Utterance','Emotion']].values"
   ]
  },
  {
   "cell_type": "code",
   "execution_count": 46,
   "id": "c711ee5e",
   "metadata": {},
   "outputs": [
    {
     "data": {
      "text/plain": [
       "13"
      ]
     },
     "execution_count": 46,
     "metadata": {},
     "output_type": "execute_result"
    }
   ],
   "source": [
    "#Drop dialogues whose utterances have more than 35 words\n",
    "test_remove = drop_dialogue(test_dict,35)\n",
    "len(test_remove)"
   ]
  },
  {
   "cell_type": "code",
   "execution_count": 47,
   "id": "a107be57",
   "metadata": {},
   "outputs": [
    {
     "data": {
      "text/plain": [
       "267"
      ]
     },
     "execution_count": 47,
     "metadata": {},
     "output_type": "execute_result"
    }
   ],
   "source": [
    "test_dict = {i:j for i,j in test_dict.items() if i not in test_remove}\n",
    "len(test_dict)"
   ]
  },
  {
   "cell_type": "code",
   "execution_count": 48,
   "id": "ae5b483b",
   "metadata": {},
   "outputs": [
    {
     "name": "stderr",
     "output_type": "stream",
     "text": [
      "100%|██████████████████████████████████████████████████████████████████████████████| 267/267 [00:00<00:00, 4454.02it/s]\n"
     ]
    }
   ],
   "source": [
    "X_test = []\n",
    "y_test = []\n",
    "for i in tqdm(test_dict.keys()):\n",
    "    p, q = tokenize_dialogue(test_dict[i],max_sentence_length,max_utterances)\n",
    "    X_test.append(p)\n",
    "    y_test.append(q)\n",
    "X_test = np.array(X_test)\n",
    "y_test = np.array(y_test)"
   ]
  },
  {
   "cell_type": "code",
   "execution_count": 49,
   "id": "8d151da0",
   "metadata": {},
   "outputs": [
    {
     "name": "stdout",
     "output_type": "stream",
     "text": [
      "(267, 24, 35)\n",
      "(267, 24)\n"
     ]
    }
   ],
   "source": [
    "print(X_test.shape)\n",
    "print(y_test.shape)"
   ]
  },
  {
   "cell_type": "code",
   "execution_count": 50,
   "id": "e5124ead",
   "metadata": {},
   "outputs": [
    {
     "data": {
      "text/plain": [
       "267"
      ]
     },
     "execution_count": 50,
     "metadata": {},
     "output_type": "execute_result"
    }
   ],
   "source": [
    "X_test.shape[0]"
   ]
  },
  {
   "cell_type": "code",
   "execution_count": 51,
   "id": "fdae20f1",
   "metadata": {},
   "outputs": [],
   "source": [
    "#Generate indices for validate(50%) and test data(50%)\n",
    "#Validation data\n",
    "random.seed(42)\n",
    "val_index = random.sample(range(0,X_test.shape[0]),int(0.5*X_test.shape[0]))\n",
    "test_index = [i for i in np.arange(X_test.shape[0]) if i not in val_index]"
   ]
  },
  {
   "cell_type": "code",
   "execution_count": 52,
   "id": "069a5c4a",
   "metadata": {},
   "outputs": [],
   "source": [
    "X_val = X_test[val_index]\n",
    "y_val = y_test[val_index]"
   ]
  },
  {
   "cell_type": "code",
   "execution_count": 53,
   "id": "032e9881",
   "metadata": {},
   "outputs": [
    {
     "name": "stdout",
     "output_type": "stream",
     "text": [
      "(133, 24, 35)\n",
      "(133, 24)\n"
     ]
    }
   ],
   "source": [
    "print(X_val.shape)\n",
    "print(y_val.shape)"
   ]
  },
  {
   "cell_type": "code",
   "execution_count": 54,
   "id": "eaa7c323",
   "metadata": {},
   "outputs": [],
   "source": [
    "X_test = X_test[test_index]\n",
    "y_test = y_test[test_index]"
   ]
  },
  {
   "cell_type": "code",
   "execution_count": 55,
   "id": "4a5df283",
   "metadata": {},
   "outputs": [
    {
     "name": "stdout",
     "output_type": "stream",
     "text": [
      "(134, 24, 35)\n",
      "(134, 24)\n"
     ]
    }
   ],
   "source": [
    "print(X_test.shape)\n",
    "print(y_test.shape)"
   ]
  },
  {
   "cell_type": "code",
   "execution_count": 56,
   "id": "68b80d79",
   "metadata": {},
   "outputs": [
    {
     "data": {
      "text/plain": [
       "['utils']"
      ]
     },
     "execution_count": 56,
     "metadata": {},
     "output_type": "execute_result"
    }
   ],
   "source": [
    "joblib.dump([X_train,y_train,X_val,y_val,X_test,y_test,embedding_matrix,tokenizer,label_index],'utils',compress=6)"
   ]
  }
 ],
 "metadata": {
  "kernelspec": {
   "display_name": "Python 3 (ipykernel)",
   "language": "python",
   "name": "python3"
  },
  "language_info": {
   "codemirror_mode": {
    "name": "ipython",
    "version": 3
   },
   "file_extension": ".py",
   "mimetype": "text/x-python",
   "name": "python",
   "nbconvert_exporter": "python",
   "pygments_lexer": "ipython3",
   "version": "3.9.7"
  }
 },
 "nbformat": 4,
 "nbformat_minor": 5
}
